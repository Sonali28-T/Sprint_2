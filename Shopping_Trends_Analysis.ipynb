{
 "cells": [
  {
   "cell_type": "markdown",
   "id": "3676ba69-4431-4db7-a259-4e1587ce14aa",
   "metadata": {},
   "source": [
    "# **Project Name - Shopping Trends Analysis**"
   ]
  },
  {
   "cell_type": "markdown",
   "id": "9f93ed77-6ca8-4ac4-99bb-5735b45c86bb",
   "metadata": {},
   "source": [
    "### **Developed By:** Sonali Thule "
   ]
  },
  {
   "cell_type": "markdown",
   "id": "2dfb4405-5c6d-409f-8b03-1f0803250bdf",
   "metadata": {},
   "source": [
    "# **Problem Statement**"
   ]
  },
  {
   "cell_type": "markdown",
   "id": "2d1eccc7-7f10-4f5b-892c-f339b67c426c",
   "metadata": {},
   "source": [
    "**The problem is to analyze customer purchase behavior in an e-commerce platform,\n",
    "focusing on factors like product categories, payment methods, shipping types, discounts, and seasonal trends.\n",
    "The challenge lies in extracting actionable insights from large transaction data to optimize marketing strategies, enhance customer satisfaction, and improve sales performance.**"
   ]
  },
  {
   "cell_type": "markdown",
   "id": "372e2387-9945-4414-9602-6c4a58a669f2",
   "metadata": {},
   "source": [
    "# **Objective**"
   ]
  },
  {
   "cell_type": "markdown",
   "id": "8d2a6753-94e3-4aa5-8a75-627682dd95d6",
   "metadata": {},
   "source": [
    "**Customer Purchase Behavior Analysis: Analyze customer data to understand purchasing patterns, including frequency, preferred payment methods, and product categories.**\n",
    "\n",
    "**Seasonal Trends Identification: Identify and evaluate seasonal purchasing trends for different product categories such as clothing, footwear, accessories, and outerwear.**\n",
    "\n",
    "**Discount Effectiveness: Assess the impact of discount promotions on customer purchase decisions and overall sales.**\n",
    "\n",
    "**Payment Method Preference: Study customer preferences for payment methods (credit card, PayPal, Venmo, etc.) and how it correlates with the frequency of purchases.**\n",
    "\n",
    "**Shipping Type Analysis: Analyze the relationship between shipping methods (e.g., express, standard, free shipping) and customer satisfaction or repeat purchases.**\n",
    "\n",
    "**Review and Rating Analysis: Investigate how product reviews and ratings influence future purchases and customer loyalty.**\n",
    "\n",
    "**Customer Segmentation: Segment customers based on demographic data (age, location) and purchase behavior to enable targeted marketing strategies.**\n",
    "\n",
    "**Promotional Strategy Evaluation: Evaluate the effectiveness of various promotional codes and discounts in driving sales during different seasons.**"
   ]
  },
  {
   "cell_type": "markdown",
   "id": "4199e30b-3046-425f-b65b-8f5ad444842a",
   "metadata": {},
   "source": [
    "# *Understanding Variable*"
   ]
  },
  {
   "cell_type": "markdown",
   "id": "232bd3db-a569-4d00-82ca-97790f233fb1",
   "metadata": {},
   "source": [
    "\n",
    "**PurchaseID**: A unique transaction identifier for tracking individual purchases.  \n",
    "\n",
    "**CustomerID**: A unique identifier representing each customer, enabling customer-level analysis.  \n",
    "\n",
    "**Age**: The age of the customer, used for demographic and segmentation analysis.  \n",
    "\n",
    "**Gender**: The gender of the customer, useful for understanding customer preferences and trends.  \n",
    "\n",
    "**Location**: The customer's geographical location, aiding in regional trend analysis and targeted marketing. \n",
    "\n",
    "**ProductName**: The specific name of the product purchased, used for product-level insights.  \n",
    "\n",
    "**Category**: The product's classification, such as Clothing, Footwear, or Accessories, to analyze category-wise trends. \n",
    "\n",
    "**Size**: The size of the product purchased, relevant for inventory and sales planning.  \n",
    "\n",
    "**Color**: The product’s color, helping in trend analysis and understanding customer preferences.  \n",
    "\n",
    "**Season**: The season associated with the purchase or product (e.g., Winter, Summer), to evaluate seasonal trends. \n",
    "\n",
    "**PurchaseAmount_USD**: The amount spent by the customer in USD, used for revenue and sales analysis.  \n",
    "\n",
    "**DiscountApplied**: Indicates if a discount was applied (1 = Yes, 0 = No), helping to assess the impact of promotions on sales.  \n",
    "\n",
    "**PreferredPaymentMethod**: The payment method chosen by the customer (e.g., Credit Card, PayPal), used to analyze payment trends.  \n",
    "\n",
    "**ShippingTypeName**: The type of shipping selected (e.g., Free Shipping, Express), helping to understand customer preferences and shipping cost impact.  \n",
    "\n",
    "**ReviewRating**: The rating or review score given by the customer for the product, useful for gauging product satisfaction and quality."
   ]
  },
  {
   "cell_type": "markdown",
   "id": "1da3db2c-ebfd-4085-be95-cce8cde479de",
   "metadata": {},
   "source": [
    "# *Github Link*"
   ]
  },
  {
   "cell_type": "markdown",
   "id": "0f3dec97-b1e2-42b1-8c24-5e9d3f3d03b4",
   "metadata": {},
   "source": [
    "### *https://github.com/Sonali28-T/Sprint_2*"
   ]
  },
  {
   "cell_type": "markdown",
   "id": "0aadd7c7-a6b5-475c-a11f-ea048fa7f603",
   "metadata": {},
   "source": [
    "# *Import necessary packages*"
   ]
  },
  {
   "cell_type": "code",
   "execution_count": 1,
   "id": "510cf736-8f72-4392-bdf1-9470893df041",
   "metadata": {},
   "outputs": [],
   "source": [
    "import mysql.connector\n",
    "import pandas as pd\n",
    "import matplotlib.pyplot as plt\n",
    "import seaborn as sns"
   ]
  },
  {
   "cell_type": "markdown",
   "id": "da834534-882b-427c-a851-57f95064dc5b",
   "metadata": {},
   "source": [
    "**Insight**   Imported all necessary packages"
   ]
  },
  {
   "cell_type": "markdown",
   "id": "4fd66ddb-26be-4710-920c-5397d33aa52c",
   "metadata": {},
   "source": [
    "# *Establishes a Connection to localhost  Mysql Database*"
   ]
  },
  {
   "cell_type": "code",
   "execution_count": 2,
   "id": "d0690ea0-6609-49b6-a8f7-94a400eaa384",
   "metadata": {},
   "outputs": [],
   "source": [
    "db_connection = mysql.connector.connect(\n",
    "user='root',\n",
    "password='security',\n",
    "host='localhost',\n",
    "database='shoppingtrenddb',# write here database name \n",
    "port='3306'\n",
    ")"
   ]
  },
  {
   "cell_type": "markdown",
   "id": "c05af1be-bf8b-47d0-8bd3-00e81ba369ad",
   "metadata": {},
   "source": [
    "**Insight**         \n",
    "The code establishes a connection to a locally hosted MySQL database (shoppingtrenddb) using the mysql.connector.connect method, allowing you to perform SQL\n",
    "operations in Python. Ensure to manage sensitive data securely and handle errors appropriately."
   ]
  },
  {
   "cell_type": "code",
   "execution_count": 3,
   "id": "8a5a8e0f-6a3a-4ad9-b74b-db148f381ca0",
   "metadata": {},
   "outputs": [],
   "source": [
    "query = \"\"\"\n",
    "SELECT\n",
    "    pur.PurchaseID,\n",
    "    c.CustomerID,\n",
    "    c.Age, \n",
    "    c.Gender,\n",
    "    c.Location,\n",
    "    pr.ProductName,\n",
    "    pr.Category,\n",
    "    pur.Size, \n",
    "    pur.Color, \n",
    "    pur.Season,\n",
    "    pur.PurchaseAmount_USD,\n",
    "    pur.DiscountApplied,\n",
    "\tc.PreferredPaymentMethod,\n",
    "    sh.ShippingTypeName,\n",
    "    pur.ReviewRating\n",
    "from purchases pur\n",
    "INNER JOIN customers c ON pur.CustomerID = c.CustomerID\n",
    "INNER JOIN products pr ON pur.ProductID = pr.ProductID\n",
    "INNER JOIN shippingtypes sh ON pur.ShippingTypeID = sh.ShippingTypeID\n",
    "\"\"\""
   ]
  },
  {
   "cell_type": "markdown",
   "id": "466939ec-120b-4475-9c0e-8b925cde6148",
   "metadata": {},
   "source": [
    "**Insight**\n",
    "This SQL query retrieves purchase details, customer information, product attributes, and shipping type for each purchase, combining data from four tables using inner joins."
   ]
  },
  {
   "cell_type": "markdown",
   "id": "437e1803-8bb0-4973-9cb5-309ae2535abd",
   "metadata": {},
   "source": [
    "# *Dataset View*"
   ]
  },
  {
   "cell_type": "code",
   "execution_count": 4,
   "id": "ef9aef62-d327-4447-a1ee-50ffa0baf704",
   "metadata": {
    "scrolled": true
   },
   "outputs": [
    {
     "name": "stdout",
     "output_type": "stream",
     "text": [
      "   PurchaseID CustomerID  Age  Gender        Location ProductName  \\\n",
      "0        P001        C01   55    Male        Kentucky      Blouse   \n",
      "1        P002        C02   19  Female           Maine     Sweater   \n",
      "2        P003        C03   50    Male   Massachusetts       Jeans   \n",
      "3        P004        C04   21  Female    Rhode Island     Sandals   \n",
      "4        P005        C05   45  Female          Oregon      Blouse   \n",
      "5        P006        C06   46    Male         Wyoming    Sneakers   \n",
      "6        P007        C07   63  Female         Montana       Shirt   \n",
      "7        P008        C08   27    Male       Louisiana      Shorts   \n",
      "8        P009        C09   26  Female   West Virginia        Coat   \n",
      "9        P010        C10   57    Male        Missouri     HandBag   \n",
      "10       P011        C11   53    Male        Arkansas       Shoes   \n",
      "11       P012        C12   30  Female          Hawaii      Shorts   \n",
      "12       P013        C13   61    Male        Delaware        Coat   \n",
      "13       P014        C14   65  Female   New Hampshire       Dress   \n",
      "14       P015        C15   64    Male        New York        Coat   \n",
      "15       P016        C16   64  Female    Rhode Island       Skirt   \n",
      "16       P017        C17   25    Male         Alabama  Sunglasses   \n",
      "17       P018        C18   53  Female     Mississippi       Dress   \n",
      "18       P019        C19   52    Male         Montana     Sweater   \n",
      "19       P020        C20   66  Female    Rhode Island       Pants   \n",
      "20       P021        C21   21  Female       Louisiana       Pants   \n",
      "21       P022        C22   31    Male  North Carolina       Pants   \n",
      "22       P023        C23   56  Female      California       Pants   \n",
      "23       P024        C24   31    Male        Oklahoma       Pants   \n",
      "24       P025        C25   18  Female         Florida      Jacket   \n",
      "25       P026        C26   18  Female           Texas      Hoodie   \n",
      "26       P027        C27   38    Male          Nevada     Jewelry   \n",
      "27       P028        C28   56  Female        Kentucky      Shorts   \n",
      "28       P029        C29   54    Male  North Carolina     HandBag   \n",
      "29       P030        C30   31  Female         Wyoming       Dress   \n",
      "30       P031        C31   57    Male  North Carolina     Jewelry   \n",
      "31       P032        C32   33  Female   West Virginia       Dress   \n",
      "32       P033        C33   36    Male          Kansas      Jacket   \n",
      "33       P034        C34   54    Male        Colorado       Pants   \n",
      "34       P035        C35   36  Female    North Dakota     T-shirt   \n",
      "35       P036        C36   54    Male   Massachusetts      Blouse   \n",
      "36       P037        C37   35    Male        Illinois     T-shirt   \n",
      "37       P038        C38   35    Male         Indiana         Hat   \n",
      "38       P039        C39   29    Male         Florida  Sunglasses   \n",
      "39       P040        C40   70    Male         Arizona       Pants   \n",
      "40       P041        C41   69  Female       Louisiana     HandBag   \n",
      "41       P042        C42   67    Male          Alaska       Scarf   \n",
      "42       P043        C43   20  Female       Tennessee        Coat   \n",
      "43       P044        C44   25    Male            Ohio       Scarf   \n",
      "44       P045        C45   39    Male        Kentucky         Hat   \n",
      "45       P046        C46   50    Male       Tennessee       Socks   \n",
      "46       P047        C47   57  Female      California       Shirt   \n",
      "47       P048        C48   55  Female         Montana     Jewelry   \n",
      "48       P049        C49   42    Male          Nevada       Shirt   \n",
      "49       P050        C50   68  Female      New Jersey      Hoodie   \n",
      "\n",
      "       Category Size      Color  Season  PurchaseAmount_USD  DiscountApplied  \\\n",
      "0      Clothing    L       Gray  Winter                53.0                1   \n",
      "1      Clothing    L     Maroon  Winter                64.0                1   \n",
      "2      Clothing    S     Maroon  Spring                73.0                1   \n",
      "3      Footwear    M     Maroon  Spring                90.0                1   \n",
      "4      Clothing    M  Turquoise  Spring                49.0                0   \n",
      "5      Footwear    M      White  Summer                20.0                1   \n",
      "6      Clothing    M       Gray    Fall                85.0                1   \n",
      "7      Clothing    L   Charcoal  Winter                34.0                1   \n",
      "8     OuterWear    L     Silver  Summer                97.0                0   \n",
      "9   Accessories    M       Pink  Spring                31.0                1   \n",
      "10     Footwear    L     Purple    Fall                34.0                1   \n",
      "11     Clothing    S      Olive  Winter                68.0                0   \n",
      "12    OuterWear    M       Gold  Winter                72.0                1   \n",
      "13     Clothing    M     Violet  Spring                51.0                1   \n",
      "14    OuterWear    L       Teal  Winter                53.0                1   \n",
      "15     Clothing    M       Teal  Winter                81.0                0   \n",
      "16  Accessories    S       Gray  Spring                36.0                1   \n",
      "17     Clothing   XL   Lavender  Winter                38.0                1   \n",
      "18     Clothing    S      Black  Summer                48.0                1   \n",
      "19     Clothing    M      Green  Summer                90.0                1   \n",
      "20     Clothing    M      Black  Winter                51.0                1   \n",
      "21     Clothing    M   Charcoal  Winter                62.0                0   \n",
      "22     Clothing    M      Peach  Summer                37.0                1   \n",
      "23     Clothing   XL      White  Winter                88.0                1   \n",
      "24    OuterWear    M      Green    Fall                22.0                1   \n",
      "25     Clothing    M     Silver  Summer                25.0                1   \n",
      "26  Accessories    M        Red  Spring                20.0                0   \n",
      "27     Clothing    L       Cyan  Summer                56.0                1   \n",
      "28  Accessories    M       Gray    Fall                94.0                1   \n",
      "29     Clothing    S      Black    Fall                48.0                1   \n",
      "30  Accessories    L      Black  Winter                31.0                1   \n",
      "31     Clothing    L      Brown  Winter                79.0                1   \n",
      "32    OuterWear    M     Silver  Summer                67.0                0   \n",
      "33     Clothing    L      Green  Summer                38.0                1   \n",
      "34     Clothing    L     Violet  Spring                91.0                1   \n",
      "35     Clothing    M       Cyan  Summer                33.0                1   \n",
      "36     Clothing    M     Maroon  Winter                69.0                1   \n",
      "37  Accessories    L       Gray  Summer                71.0                0   \n",
      "38  Accessories   XL  Turquoise  Winter                53.0                1   \n",
      "39     Clothing    S  Turquoise  Summer                60.0                1   \n",
      "40  Accessories    L      Beige  Winter                76.0                1   \n",
      "41  Accessories    M     Orange  Spring                39.0                0   \n",
      "42    OuterWear    M      Beige  Spring               100.0                1   \n",
      "43  Accessories    L   Lavender    Fall                69.0                1   \n",
      "44  Accessories    S     Silver  Summer                53.0                1   \n",
      "45     Clothing   XL     Indigo    Fall                21.0                1   \n",
      "46     Clothing    L      White  Summer                43.0                1   \n",
      "47  Accessories    M   Charcoal  Winter                54.0                0   \n",
      "48     Clothing    M     Orange  Summer                55.0                1   \n",
      "49     Clothing    S     Indigo  Spring                30.0                1   \n",
      "\n",
      "   PreferredPaymentMethod ShippingTypeName  ReviewRating  \n",
      "0             Credit Card          Express           3.1  \n",
      "1           Bank Transfer          Express           3.1  \n",
      "2                    Cash    Free Shipping           3.1  \n",
      "3                  PayPal     Next Day Air           3.5  \n",
      "4                    Cash    Free Shipping           2.7  \n",
      "5                   Venmo         Standard           2.9  \n",
      "6              Debit Card    Free Shipping           3.2  \n",
      "7              Debit Card    Free Shipping           3.2  \n",
      "8                   Venmo          Express           2.6  \n",
      "9                  PayPal   2-Day Shipping           4.8  \n",
      "10            Credit Card     Store Pickup           4.1  \n",
      "11                 PayPal     Store Pickup           4.9  \n",
      "12                 PayPal          Express           4.5  \n",
      "13             Debit Card          Express           4.7  \n",
      "14                 PayPal    Free Shipping           4.7  \n",
      "15            Credit Card     Store Pickup           2.8  \n",
      "16                  Venmo     Next Day Air           4.1  \n",
      "17             Debit Card   2-Day Shipping           4.7  \n",
      "18          Bank Transfer    Free Shipping           4.6  \n",
      "19                  Venmo         Standard           3.3  \n",
      "20            Credit Card          Express           2.8  \n",
      "21            Credit Card     Store Pickup           4.1  \n",
      "22                   Cash     Store Pickup           3.2  \n",
      "23            Credit Card          Express           4.4  \n",
      "24                   Cash     Store Pickup           2.9  \n",
      "25          Bank Transfer          Express           3.6  \n",
      "26                   Cash     Next Day Air           3.6  \n",
      "27             Debit Card     Next Day Air           5.0  \n",
      "28             Debit Card    Free Shipping           4.4  \n",
      "29                  Venmo     Store Pickup           4.1  \n",
      "30          Bank Transfer         Standard           4.7  \n",
      "31                  Venmo     Store Pickup           4.7  \n",
      "32          Bank Transfer    Free Shipping           4.9  \n",
      "33                  Venmo     Store Pickup           3.3  \n",
      "34             Debit Card   2-Day Shipping           4.6  \n",
      "35          Bank Transfer   2-Day Shipping           4.0  \n",
      "36                   Cash    Free Shipping           4.6  \n",
      "37             Debit Card          Express           2.7  \n",
      "38             Debit Card     Next Day Air           4.9  \n",
      "39          Bank Transfer          Express           4.2  \n",
      "40                 PayPal     Next Day Air           4.6  \n",
      "41                   Cash         Standard           4.5  \n",
      "42          Bank Transfer    Free Shipping           4.1  \n",
      "43                 PayPal     Store Pickup           3.7  \n",
      "44          Bank Transfer    Free Shipping           4.6  \n",
      "45                  Venmo   2-Day Shipping           2.9  \n",
      "46                  Venmo     Store Pickup           2.9  \n",
      "47             Debit Card    Free Shipping           4.5  \n",
      "48             Debit Card     Store Pickup           2.7  \n",
      "49          Bank Transfer     Next Day Air           4.6  \n"
     ]
    },
    {
     "name": "stderr",
     "output_type": "stream",
     "text": [
      "C:\\Users\\Sonal\\AppData\\Local\\Temp\\ipykernel_15112\\1790199922.py:2: UserWarning: pandas only supports SQLAlchemy connectable (engine/connection) or database string URI or sqlite3 DBAPI2 connection. Other DBAPI2 objects are not tested. Please consider using SQLAlchemy.\n",
      "  df = pd.read_sql(query, db_connection)\n"
     ]
    }
   ],
   "source": [
    "# Load the data into a pandas DataFrame using the SQL query and database connection\n",
    "df = pd.read_sql(query, db_connection)\n",
    "df_sorted = df.sort_values(by='CustomerID')  # Sort the DataFrame by 'CustomerID' column\n",
    "df_sorted = df_sorted.reset_index(drop=True)  # Reset the index of the sorted DataFrame to be sequential\n",
    "df1=df_sorted # Assign the sorted DataFrame to a new variable 'df1'\n",
    "\n",
    "# Print the DataFrame 'df1' to check the result\n",
    "print(df1)"
   ]
  },
  {
   "cell_type": "markdown",
   "id": "d0f9de49-a4c0-4c34-a2b5-dc9590a6439a",
   "metadata": {},
   "source": [
    "**Insight**   \n",
    "\n",
    "This code loads data from the database using the SQL query, sorts the DataFrame by `CustomerID`, resets the index to be sequential, and stores the result in `df1` before printing it."
   ]
  },
  {
   "cell_type": "code",
   "execution_count": 5,
   "id": "332ed351-df03-4b36-ad57-4c1d26c364fb",
   "metadata": {},
   "outputs": [
    {
     "data": {
      "text/plain": [
       "(50, 15)"
      ]
     },
     "execution_count": 5,
     "metadata": {},
     "output_type": "execute_result"
    }
   ],
   "source": [
    "df1.shape  # Get the shape of 'df1' or dataframe (number of rows and columns)"
   ]
  },
  {
   "cell_type": "markdown",
   "id": "3cbf2392-0b1c-4c0b-993b-d60f37583999",
   "metadata": {},
   "source": [
    "**Insight** \n",
    "\n",
    "It will return a tuple representing the dimensions of the DataFrame df1, where the first value is the number of rows and the second value is the number of columns."
   ]
  },
  {
   "cell_type": "code",
   "execution_count": 6,
   "id": "dc5ec4a9-8632-427e-a5d8-3fef94f9d524",
   "metadata": {},
   "outputs": [
    {
     "data": {
      "text/html": [
       "<div>\n",
       "<style scoped>\n",
       "    .dataframe tbody tr th:only-of-type {\n",
       "        vertical-align: middle;\n",
       "    }\n",
       "\n",
       "    .dataframe tbody tr th {\n",
       "        vertical-align: top;\n",
       "    }\n",
       "\n",
       "    .dataframe thead th {\n",
       "        text-align: right;\n",
       "    }\n",
       "</style>\n",
       "<table border=\"1\" class=\"dataframe\">\n",
       "  <thead>\n",
       "    <tr style=\"text-align: right;\">\n",
       "      <th></th>\n",
       "      <th>PurchaseID</th>\n",
       "      <th>CustomerID</th>\n",
       "      <th>Age</th>\n",
       "      <th>Gender</th>\n",
       "      <th>Location</th>\n",
       "      <th>ProductName</th>\n",
       "      <th>Category</th>\n",
       "      <th>Size</th>\n",
       "      <th>Color</th>\n",
       "      <th>Season</th>\n",
       "      <th>PurchaseAmount_USD</th>\n",
       "      <th>DiscountApplied</th>\n",
       "      <th>PreferredPaymentMethod</th>\n",
       "      <th>ShippingTypeName</th>\n",
       "      <th>ReviewRating</th>\n",
       "    </tr>\n",
       "  </thead>\n",
       "  <tbody>\n",
       "    <tr>\n",
       "      <th>0</th>\n",
       "      <td>P001</td>\n",
       "      <td>C01</td>\n",
       "      <td>55</td>\n",
       "      <td>Male</td>\n",
       "      <td>Kentucky</td>\n",
       "      <td>Blouse</td>\n",
       "      <td>Clothing</td>\n",
       "      <td>L</td>\n",
       "      <td>Gray</td>\n",
       "      <td>Winter</td>\n",
       "      <td>53.0</td>\n",
       "      <td>1</td>\n",
       "      <td>Credit Card</td>\n",
       "      <td>Express</td>\n",
       "      <td>3.1</td>\n",
       "    </tr>\n",
       "    <tr>\n",
       "      <th>1</th>\n",
       "      <td>P002</td>\n",
       "      <td>C02</td>\n",
       "      <td>19</td>\n",
       "      <td>Female</td>\n",
       "      <td>Maine</td>\n",
       "      <td>Sweater</td>\n",
       "      <td>Clothing</td>\n",
       "      <td>L</td>\n",
       "      <td>Maroon</td>\n",
       "      <td>Winter</td>\n",
       "      <td>64.0</td>\n",
       "      <td>1</td>\n",
       "      <td>Bank Transfer</td>\n",
       "      <td>Express</td>\n",
       "      <td>3.1</td>\n",
       "    </tr>\n",
       "    <tr>\n",
       "      <th>2</th>\n",
       "      <td>P003</td>\n",
       "      <td>C03</td>\n",
       "      <td>50</td>\n",
       "      <td>Male</td>\n",
       "      <td>Massachusetts</td>\n",
       "      <td>Jeans</td>\n",
       "      <td>Clothing</td>\n",
       "      <td>S</td>\n",
       "      <td>Maroon</td>\n",
       "      <td>Spring</td>\n",
       "      <td>73.0</td>\n",
       "      <td>1</td>\n",
       "      <td>Cash</td>\n",
       "      <td>Free Shipping</td>\n",
       "      <td>3.1</td>\n",
       "    </tr>\n",
       "    <tr>\n",
       "      <th>3</th>\n",
       "      <td>P004</td>\n",
       "      <td>C04</td>\n",
       "      <td>21</td>\n",
       "      <td>Female</td>\n",
       "      <td>Rhode Island</td>\n",
       "      <td>Sandals</td>\n",
       "      <td>Footwear</td>\n",
       "      <td>M</td>\n",
       "      <td>Maroon</td>\n",
       "      <td>Spring</td>\n",
       "      <td>90.0</td>\n",
       "      <td>1</td>\n",
       "      <td>PayPal</td>\n",
       "      <td>Next Day Air</td>\n",
       "      <td>3.5</td>\n",
       "    </tr>\n",
       "    <tr>\n",
       "      <th>4</th>\n",
       "      <td>P005</td>\n",
       "      <td>C05</td>\n",
       "      <td>45</td>\n",
       "      <td>Female</td>\n",
       "      <td>Oregon</td>\n",
       "      <td>Blouse</td>\n",
       "      <td>Clothing</td>\n",
       "      <td>M</td>\n",
       "      <td>Turquoise</td>\n",
       "      <td>Spring</td>\n",
       "      <td>49.0</td>\n",
       "      <td>0</td>\n",
       "      <td>Cash</td>\n",
       "      <td>Free Shipping</td>\n",
       "      <td>2.7</td>\n",
       "    </tr>\n",
       "  </tbody>\n",
       "</table>\n",
       "</div>"
      ],
      "text/plain": [
       "  PurchaseID CustomerID  Age  Gender       Location ProductName  Category  \\\n",
       "0       P001        C01   55    Male       Kentucky      Blouse  Clothing   \n",
       "1       P002        C02   19  Female          Maine     Sweater  Clothing   \n",
       "2       P003        C03   50    Male  Massachusetts       Jeans  Clothing   \n",
       "3       P004        C04   21  Female   Rhode Island     Sandals  Footwear   \n",
       "4       P005        C05   45  Female         Oregon      Blouse  Clothing   \n",
       "\n",
       "  Size      Color  Season  PurchaseAmount_USD  DiscountApplied  \\\n",
       "0    L       Gray  Winter                53.0                1   \n",
       "1    L     Maroon  Winter                64.0                1   \n",
       "2    S     Maroon  Spring                73.0                1   \n",
       "3    M     Maroon  Spring                90.0                1   \n",
       "4    M  Turquoise  Spring                49.0                0   \n",
       "\n",
       "  PreferredPaymentMethod ShippingTypeName  ReviewRating  \n",
       "0            Credit Card          Express           3.1  \n",
       "1          Bank Transfer          Express           3.1  \n",
       "2                   Cash    Free Shipping           3.1  \n",
       "3                 PayPal     Next Day Air           3.5  \n",
       "4                   Cash    Free Shipping           2.7  "
      ]
     },
     "execution_count": 6,
     "metadata": {},
     "output_type": "execute_result"
    }
   ],
   "source": [
    "df1.head() # Display the first few rows of the data"
   ]
  },
  {
   "cell_type": "markdown",
   "id": "b496d32a-2880-4e97-b8ae-06ee43c85db7",
   "metadata": {},
   "source": [
    "**Insight**  \n",
    " It gives a quick preview of the dataset, showing the first 5 rows."
   ]
  },
  {
   "cell_type": "code",
   "execution_count": 7,
   "id": "978fd822-1724-4a79-a840-fbfa54fecd57",
   "metadata": {},
   "outputs": [
    {
     "data": {
      "text/html": [
       "<div>\n",
       "<style scoped>\n",
       "    .dataframe tbody tr th:only-of-type {\n",
       "        vertical-align: middle;\n",
       "    }\n",
       "\n",
       "    .dataframe tbody tr th {\n",
       "        vertical-align: top;\n",
       "    }\n",
       "\n",
       "    .dataframe thead th {\n",
       "        text-align: right;\n",
       "    }\n",
       "</style>\n",
       "<table border=\"1\" class=\"dataframe\">\n",
       "  <thead>\n",
       "    <tr style=\"text-align: right;\">\n",
       "      <th></th>\n",
       "      <th>PurchaseID</th>\n",
       "      <th>CustomerID</th>\n",
       "      <th>Age</th>\n",
       "      <th>Gender</th>\n",
       "      <th>Location</th>\n",
       "      <th>ProductName</th>\n",
       "      <th>Category</th>\n",
       "      <th>Size</th>\n",
       "      <th>Color</th>\n",
       "      <th>Season</th>\n",
       "      <th>PurchaseAmount_USD</th>\n",
       "      <th>DiscountApplied</th>\n",
       "      <th>PreferredPaymentMethod</th>\n",
       "      <th>ShippingTypeName</th>\n",
       "      <th>ReviewRating</th>\n",
       "    </tr>\n",
       "  </thead>\n",
       "  <tbody>\n",
       "    <tr>\n",
       "      <th>45</th>\n",
       "      <td>P046</td>\n",
       "      <td>C46</td>\n",
       "      <td>50</td>\n",
       "      <td>Male</td>\n",
       "      <td>Tennessee</td>\n",
       "      <td>Socks</td>\n",
       "      <td>Clothing</td>\n",
       "      <td>XL</td>\n",
       "      <td>Indigo</td>\n",
       "      <td>Fall</td>\n",
       "      <td>21.0</td>\n",
       "      <td>1</td>\n",
       "      <td>Venmo</td>\n",
       "      <td>2-Day Shipping</td>\n",
       "      <td>2.9</td>\n",
       "    </tr>\n",
       "    <tr>\n",
       "      <th>46</th>\n",
       "      <td>P047</td>\n",
       "      <td>C47</td>\n",
       "      <td>57</td>\n",
       "      <td>Female</td>\n",
       "      <td>California</td>\n",
       "      <td>Shirt</td>\n",
       "      <td>Clothing</td>\n",
       "      <td>L</td>\n",
       "      <td>White</td>\n",
       "      <td>Summer</td>\n",
       "      <td>43.0</td>\n",
       "      <td>1</td>\n",
       "      <td>Venmo</td>\n",
       "      <td>Store Pickup</td>\n",
       "      <td>2.9</td>\n",
       "    </tr>\n",
       "    <tr>\n",
       "      <th>47</th>\n",
       "      <td>P048</td>\n",
       "      <td>C48</td>\n",
       "      <td>55</td>\n",
       "      <td>Female</td>\n",
       "      <td>Montana</td>\n",
       "      <td>Jewelry</td>\n",
       "      <td>Accessories</td>\n",
       "      <td>M</td>\n",
       "      <td>Charcoal</td>\n",
       "      <td>Winter</td>\n",
       "      <td>54.0</td>\n",
       "      <td>0</td>\n",
       "      <td>Debit Card</td>\n",
       "      <td>Free Shipping</td>\n",
       "      <td>4.5</td>\n",
       "    </tr>\n",
       "    <tr>\n",
       "      <th>48</th>\n",
       "      <td>P049</td>\n",
       "      <td>C49</td>\n",
       "      <td>42</td>\n",
       "      <td>Male</td>\n",
       "      <td>Nevada</td>\n",
       "      <td>Shirt</td>\n",
       "      <td>Clothing</td>\n",
       "      <td>M</td>\n",
       "      <td>Orange</td>\n",
       "      <td>Summer</td>\n",
       "      <td>55.0</td>\n",
       "      <td>1</td>\n",
       "      <td>Debit Card</td>\n",
       "      <td>Store Pickup</td>\n",
       "      <td>2.7</td>\n",
       "    </tr>\n",
       "    <tr>\n",
       "      <th>49</th>\n",
       "      <td>P050</td>\n",
       "      <td>C50</td>\n",
       "      <td>68</td>\n",
       "      <td>Female</td>\n",
       "      <td>New Jersey</td>\n",
       "      <td>Hoodie</td>\n",
       "      <td>Clothing</td>\n",
       "      <td>S</td>\n",
       "      <td>Indigo</td>\n",
       "      <td>Spring</td>\n",
       "      <td>30.0</td>\n",
       "      <td>1</td>\n",
       "      <td>Bank Transfer</td>\n",
       "      <td>Next Day Air</td>\n",
       "      <td>4.6</td>\n",
       "    </tr>\n",
       "  </tbody>\n",
       "</table>\n",
       "</div>"
      ],
      "text/plain": [
       "   PurchaseID CustomerID  Age  Gender    Location ProductName     Category  \\\n",
       "45       P046        C46   50    Male   Tennessee       Socks     Clothing   \n",
       "46       P047        C47   57  Female  California       Shirt     Clothing   \n",
       "47       P048        C48   55  Female     Montana     Jewelry  Accessories   \n",
       "48       P049        C49   42    Male      Nevada       Shirt     Clothing   \n",
       "49       P050        C50   68  Female  New Jersey      Hoodie     Clothing   \n",
       "\n",
       "   Size     Color  Season  PurchaseAmount_USD  DiscountApplied  \\\n",
       "45   XL    Indigo    Fall                21.0                1   \n",
       "46    L     White  Summer                43.0                1   \n",
       "47    M  Charcoal  Winter                54.0                0   \n",
       "48    M    Orange  Summer                55.0                1   \n",
       "49    S    Indigo  Spring                30.0                1   \n",
       "\n",
       "   PreferredPaymentMethod ShippingTypeName  ReviewRating  \n",
       "45                  Venmo   2-Day Shipping           2.9  \n",
       "46                  Venmo     Store Pickup           2.9  \n",
       "47             Debit Card    Free Shipping           4.5  \n",
       "48             Debit Card     Store Pickup           2.7  \n",
       "49          Bank Transfer     Next Day Air           4.6  "
      ]
     },
     "execution_count": 7,
     "metadata": {},
     "output_type": "execute_result"
    }
   ],
   "source": [
    "df1.tail() # Display the last 5 rows of 'df1' to inspect the end of the dataset"
   ]
  },
  {
   "cell_type": "markdown",
   "id": "fd36895d-e38e-4f20-8c03-d1d9ec587a97",
   "metadata": {},
   "source": [
    "**Insight**   \n",
    "\n",
    "It shows the last 5 rows of the dataset, which is useful for checking if there are any unexpected values or inconsistencies at the end of the data."
   ]
  },
  {
   "cell_type": "code",
   "execution_count": 8,
   "id": "eb8763bc-faf8-4836-994b-3a90b6d7c636",
   "metadata": {},
   "outputs": [
    {
     "data": {
      "text/plain": [
       "Index(['PurchaseID', 'CustomerID', 'Age', 'Gender', 'Location', 'ProductName',\n",
       "       'Category', 'Size', 'Color', 'Season', 'PurchaseAmount_USD',\n",
       "       'DiscountApplied', 'PreferredPaymentMethod', 'ShippingTypeName',\n",
       "       'ReviewRating'],\n",
       "      dtype='object')"
      ]
     },
     "execution_count": 8,
     "metadata": {},
     "output_type": "execute_result"
    }
   ],
   "source": [
    "df1.columns"
   ]
  },
  {
   "cell_type": "markdown",
   "id": "95ca8085-1f75-4cc5-9f1e-3553c5b8a7e2",
   "metadata": {},
   "source": [
    "**Insight**  It provides a list of all the column names in the DataFrame"
   ]
  },
  {
   "cell_type": "markdown",
   "id": "e09ac5e4-a9fe-47ff-b95e-fc874533a73b",
   "metadata": {},
   "source": [
    "# *Dataset Information*"
   ]
  },
  {
   "cell_type": "code",
   "execution_count": 9,
   "id": "e79bedb3-f95f-4760-9941-82feba9793ec",
   "metadata": {},
   "outputs": [
    {
     "name": "stdout",
     "output_type": "stream",
     "text": [
      "<class 'pandas.core.frame.DataFrame'>\n",
      "RangeIndex: 50 entries, 0 to 49\n",
      "Data columns (total 15 columns):\n",
      " #   Column                  Non-Null Count  Dtype  \n",
      "---  ------                  --------------  -----  \n",
      " 0   PurchaseID              50 non-null     object \n",
      " 1   CustomerID              50 non-null     object \n",
      " 2   Age                     50 non-null     int64  \n",
      " 3   Gender                  50 non-null     object \n",
      " 4   Location                50 non-null     object \n",
      " 5   ProductName             50 non-null     object \n",
      " 6   Category                50 non-null     object \n",
      " 7   Size                    50 non-null     object \n",
      " 8   Color                   50 non-null     object \n",
      " 9   Season                  50 non-null     object \n",
      " 10  PurchaseAmount_USD      50 non-null     float64\n",
      " 11  DiscountApplied         50 non-null     int64  \n",
      " 12  PreferredPaymentMethod  50 non-null     object \n",
      " 13  ShippingTypeName        50 non-null     object \n",
      " 14  ReviewRating            50 non-null     float64\n",
      "dtypes: float64(2), int64(2), object(11)\n",
      "memory usage: 6.0+ KB\n"
     ]
    }
   ],
   "source": [
    "# Display a concise summary of the DataFrame 'df', including the number of entries, \n",
    "df1.info()\n"
   ]
  },
  {
   "cell_type": "markdown",
   "id": "9b55b30c-4410-4724-a787-aa6c29208856",
   "metadata": {},
   "source": [
    "**Insight**  \n",
    "\n",
    "It provides an overview of the dataset, showing the total number of entries, data types of each column, and the count of non-null values. This helps identify missing data and understand the structure of the dataset."
   ]
  },
  {
   "cell_type": "markdown",
   "id": "4e1f91ef-86f3-4b95-8cbe-94fd1f4db632",
   "metadata": {},
   "source": [
    "# *Descriptive Statistics Overview*"
   ]
  },
  {
   "cell_type": "code",
   "execution_count": 10,
   "id": "d8a1f8f3-be3e-468d-ac4b-6065d48e5bec",
   "metadata": {},
   "outputs": [
    {
     "data": {
      "text/html": [
       "<div>\n",
       "<style scoped>\n",
       "    .dataframe tbody tr th:only-of-type {\n",
       "        vertical-align: middle;\n",
       "    }\n",
       "\n",
       "    .dataframe tbody tr th {\n",
       "        vertical-align: top;\n",
       "    }\n",
       "\n",
       "    .dataframe thead th {\n",
       "        text-align: right;\n",
       "    }\n",
       "</style>\n",
       "<table border=\"1\" class=\"dataframe\">\n",
       "  <thead>\n",
       "    <tr style=\"text-align: right;\">\n",
       "      <th></th>\n",
       "      <th>Age</th>\n",
       "      <th>PurchaseAmount_USD</th>\n",
       "      <th>DiscountApplied</th>\n",
       "      <th>ReviewRating</th>\n",
       "    </tr>\n",
       "  </thead>\n",
       "  <tbody>\n",
       "    <tr>\n",
       "      <th>count</th>\n",
       "      <td>50.000000</td>\n",
       "      <td>50.000000</td>\n",
       "      <td>50.000000</td>\n",
       "      <td>50.000000</td>\n",
       "    </tr>\n",
       "    <tr>\n",
       "      <th>mean</th>\n",
       "      <td>44.540000</td>\n",
       "      <td>56.040000</td>\n",
       "      <td>0.800000</td>\n",
       "      <td>3.888000</td>\n",
       "    </tr>\n",
       "    <tr>\n",
       "      <th>std</th>\n",
       "      <td>16.134903</td>\n",
       "      <td>22.586758</td>\n",
       "      <td>0.404061</td>\n",
       "      <td>0.781845</td>\n",
       "    </tr>\n",
       "    <tr>\n",
       "      <th>min</th>\n",
       "      <td>18.000000</td>\n",
       "      <td>20.000000</td>\n",
       "      <td>0.000000</td>\n",
       "      <td>2.600000</td>\n",
       "    </tr>\n",
       "    <tr>\n",
       "      <th>25%</th>\n",
       "      <td>31.000000</td>\n",
       "      <td>37.250000</td>\n",
       "      <td>1.000000</td>\n",
       "      <td>3.125000</td>\n",
       "    </tr>\n",
       "    <tr>\n",
       "      <th>50%</th>\n",
       "      <td>48.000000</td>\n",
       "      <td>53.000000</td>\n",
       "      <td>1.000000</td>\n",
       "      <td>4.100000</td>\n",
       "    </tr>\n",
       "    <tr>\n",
       "      <th>75%</th>\n",
       "      <td>56.750000</td>\n",
       "      <td>71.750000</td>\n",
       "      <td>1.000000</td>\n",
       "      <td>4.600000</td>\n",
       "    </tr>\n",
       "    <tr>\n",
       "      <th>max</th>\n",
       "      <td>70.000000</td>\n",
       "      <td>100.000000</td>\n",
       "      <td>1.000000</td>\n",
       "      <td>5.000000</td>\n",
       "    </tr>\n",
       "  </tbody>\n",
       "</table>\n",
       "</div>"
      ],
      "text/plain": [
       "             Age  PurchaseAmount_USD  DiscountApplied  ReviewRating\n",
       "count  50.000000           50.000000        50.000000     50.000000\n",
       "mean   44.540000           56.040000         0.800000      3.888000\n",
       "std    16.134903           22.586758         0.404061      0.781845\n",
       "min    18.000000           20.000000         0.000000      2.600000\n",
       "25%    31.000000           37.250000         1.000000      3.125000\n",
       "50%    48.000000           53.000000         1.000000      4.100000\n",
       "75%    56.750000           71.750000         1.000000      4.600000\n",
       "max    70.000000          100.000000         1.000000      5.000000"
      ]
     },
     "execution_count": 10,
     "metadata": {},
     "output_type": "execute_result"
    }
   ],
   "source": [
    " # Display summary statistics for numerical columns in 'df1', such as mean, standard deviation, and percentiles\n",
    "df1.describe()"
   ]
  },
  {
   "cell_type": "markdown",
   "id": "39334afc-3829-42c5-a7e4-96251d235252",
   "metadata": {},
   "source": [
    "**Insight**\n",
    "\n",
    "It generates summary statistics for all numerical columns, providing key metrics like mean, standard deviation, and percentiles, which helps assess the distribution and spread of numerical data in the dataset."
   ]
  },
  {
   "cell_type": "markdown",
   "id": "4757a65c-7509-4aa6-ac65-412cbe8fac57",
   "metadata": {},
   "source": [
    "# *Cleaning the Data*"
   ]
  },
  {
   "cell_type": "markdown",
   "id": "c8aea64b-7f2a-421e-b300-7815960b8772",
   "metadata": {},
   "source": [
    "**Missing Values/Null Values**"
   ]
  },
  {
   "cell_type": "code",
   "execution_count": 11,
   "id": "c4836d2c-183f-4fb2-840f-a21eb35815ca",
   "metadata": {},
   "outputs": [
    {
     "data": {
      "text/plain": [
       "PurchaseID                0\n",
       "CustomerID                0\n",
       "Age                       0\n",
       "Gender                    0\n",
       "Location                  0\n",
       "ProductName               0\n",
       "Category                  0\n",
       "Size                      0\n",
       "Color                     0\n",
       "Season                    0\n",
       "PurchaseAmount_USD        0\n",
       "DiscountApplied           0\n",
       "PreferredPaymentMethod    0\n",
       "ShippingTypeName          0\n",
       "ReviewRating              0\n",
       "dtype: int64"
      ]
     },
     "execution_count": 11,
     "metadata": {},
     "output_type": "execute_result"
    }
   ],
   "source": [
    "# Calculate and display the total number of missing values in each column of 'df'.\n",
    "df1.isnull().sum()"
   ]
  },
  {
   "cell_type": "markdown",
   "id": "05a4116d-61b4-4601-96bf-2e050b4a0f5e",
   "metadata": {},
   "source": [
    "**Insight**   \n",
    "\n",
    "It shows the total count of missing (null) values for each column, helping to identify any columns that may require data cleaning or imputation before analysis.\n",
    "\n",
    "All columns in the DataFrame contain complete data with no missing values, ensuring reliable analysis."
   ]
  },
  {
   "cell_type": "markdown",
   "id": "cd8f449b-b6cc-419c-9341-9e0dd52203ef",
   "metadata": {},
   "source": [
    " **Duplicate Values**"
   ]
  },
  {
   "cell_type": "code",
   "execution_count": 12,
   "id": "4e616b19-f948-40b8-baee-e8eff2e15921",
   "metadata": {},
   "outputs": [
    {
     "name": "stdout",
     "output_type": "stream",
     "text": [
      "Number of duplicate rows: 0\n"
     ]
    }
   ],
   "source": [
    "# Check for duplicate rows in the dataset and display the count\n",
    "duplicate_rows = df1.duplicated().sum()\n",
    "print(f\"Number of duplicate rows: {duplicate_rows}\")\n"
   ]
  },
  {
   "cell_type": "markdown",
   "id": "70b38214-3f26-472a-a603-49b0dc2a54b3",
   "metadata": {},
   "source": [
    "**Insight**\n",
    "\n",
    "The output Number of duplicate rows: 0 indicates that there are no duplicate rows in the dataset, meaning each record is unique and no data redundancy is present. This is important for ensuring the quality and integrity of the dataset before analysis."
   ]
  },
  {
   "cell_type": "markdown",
   "id": "1f2da6af-488d-4336-a4f9-0bb7f11e1ed8",
   "metadata": {},
   "source": [
    "**Checking Unique Values for Each Variable**"
   ]
  },
  {
   "cell_type": "code",
   "execution_count": 13,
   "id": "b429ac58-8c3c-4a07-9270-9673f840f090",
   "metadata": {},
   "outputs": [
    {
     "name": "stdout",
     "output_type": "stream",
     "text": [
      "Unique values in PurchaseID: 50\n",
      "Unique values in CustomerID: 50\n",
      "Unique values in Age: 34\n",
      "Unique values in Gender: 2\n",
      "Unique values in Location: 33\n",
      "Unique values in ProductName: 21\n",
      "Unique values in Category: 4\n",
      "Unique values in Size: 4\n",
      "Unique values in Color: 22\n",
      "Unique values in Season: 4\n",
      "Unique values in PurchaseAmount_USD: 39\n",
      "Unique values in DiscountApplied: 2\n",
      "Unique values in PreferredPaymentMethod: 6\n",
      "Unique values in ShippingTypeName: 6\n",
      "Unique values in ReviewRating: 20\n"
     ]
    }
   ],
   "source": [
    "# Get unique values for each column\n",
    "for column in df1.columns:\n",
    "    print(f\"Unique values in {column}: {df1[column].nunique()}\")\n"
   ]
  },
  {
   "cell_type": "markdown",
   "id": "5d8cc62c-7223-44d9-86e5-ddea01dab61f",
   "metadata": {},
   "source": [
    "**Insight** \n",
    "\n",
    "This code iterates through each column in the dataset and prints the count of unique values for each column. This helps to understand the variability within each feature, identify categorical variables, and assess if any columns have too many unique values to be useful for analysis."
   ]
  },
  {
   "cell_type": "markdown",
   "id": "756ca419-6301-4f70-a8a5-31eed161219c",
   "metadata": {},
   "source": [
    "# **Data Visualization**"
   ]
  },
  {
   "cell_type": "markdown",
   "id": "ca06bf4c-929f-4d7c-9753-fee29db3807e",
   "metadata": {},
   "source": [
    "## **Visualization No.1: Total Purchase Amount by Category**\n"
   ]
  },
  {
   "cell_type": "code",
   "execution_count": 14,
   "id": "5af54fd2-938c-430d-a670-d3b1f1c48e1f",
   "metadata": {},
   "outputs": [
    {
     "name": "stdout",
     "output_type": "stream",
     "text": [
      "      Category  PurchaseAmount_USD\n",
      "0  Accessories               627.0\n",
      "1     Clothing              1620.0\n",
      "2     Footwear               144.0\n",
      "3    OuterWear               411.0\n"
     ]
    },
    {
     "name": "stderr",
     "output_type": "stream",
     "text": [
      "C:\\Users\\Sonal\\AppData\\Local\\Temp\\ipykernel_15112\\2124891915.py:11: FutureWarning: \n",
      "\n",
      "Passing `palette` without assigning `hue` is deprecated and will be removed in v0.14.0. Assign the `x` variable to `hue` and set `legend=False` for the same effect.\n",
      "\n",
      "  sns.barplot(data=pivot_table, x='Category', y='PurchaseAmount_USD', palette='viridis')\n"
     ]
    },
    {
     "data": {
      "image/png": "[encoded data removed]",
      "text/plain": [
       "<Figure size 1000x400 with 1 Axes>"
      ]
     },
     "metadata": {},
     "output_type": "display_data"
    }
   ],
   "source": [
    "# Create a pivot table to calculate the total purchase amount for each category\n",
    "pivot_table = df1.pivot_table(values='PurchaseAmount_USD', index='Category', aggfunc='sum').reset_index()\n",
    "\n",
    "# Print the pivot table to verify the results\n",
    "print(pivot_table)\n",
    "\n",
    "# Set the figure size for better visualization\n",
    "plt.figure(figsize=(10, 4))\n",
    "\n",
    "# Create a bar chart using seaborn to visualize the total purchase amount by category\n",
    "sns.barplot(data=pivot_table, x='Category', y='PurchaseAmount_USD', palette='viridis')\n",
    "\n",
    "# Add a title to the bar chart\n",
    "plt.title('Total Purchase Amount by Category', fontsize=16)\n",
    "\n",
    "# Label the x-axis\n",
    "plt.xlabel('Category', fontsize=14)\n",
    "\n",
    "# Label the y-axis\n",
    "plt.ylabel('Total Purchase Amount (USD)', fontsize=14)\n",
    "\n",
    "# Display the bar chart\n",
    "plt.show()\n"
   ]
  },
  {
   "cell_type": "markdown",
   "id": "6b6c4a8f-e565-4600-8c1d-8061d4ce9ef0",
   "metadata": {},
   "source": [
    "**Insight**\n",
    "\n",
    "The total purchase amount for \"Clothing\" is significantly higher than other categories, reaching 1620 USD,  while \"Footwear\" has the lowest at 144 USD. This suggests that clothing is the most popular or highest-selling category, while footwear may need attention in terms of sales strategy.\n"
   ]
  },
  {
   "cell_type": "markdown",
   "id": "10dc6d1f-a05a-448d-b69c-ee7aa97a196d",
   "metadata": {},
   "source": [
    "## **Visualization No.2: Seasonal Purchasing Trends**"
   ]
  },
  {
   "cell_type": "code",
   "execution_count": 21,
   "id": "7b55d25f-472c-4d0e-aa2e-9cf7107089e4",
   "metadata": {},
   "outputs": [
    {
     "data": {
      "image/png": "[encoded data removed]",
      "text/plain": [
       "<Figure size 700x500 with 1 Axes>"
      ]
     },
     "metadata": {},
     "output_type": "display_data"
    }
   ],
   "source": [
    "# Set the figure size for the pie chart to make it more readable\n",
    "plt.figure(figsize=(7, 5))\n",
    "\n",
    "seasonal_trends = df1\n",
    "\n",
    "# Group data by 'Season' to calculate the total purchase amount per season for a clearer, aggregated pie chart.\n",
    "seasonal_trends= seasonal_trends.groupby('Season', as_index=False)['PurchaseAmount_USD'].sum()\n",
    "\n",
    "# Create a pie chart using Matplotlib\n",
    "plt.pie(seasonal_trends['PurchaseAmount_USD'],                  # provides the data values for each slice\n",
    "        labels=seasonal_trends['Season'],                       # provides the labels for each slice (seasons)\n",
    "        autopct='%1.2f%%',                                      # shows the percentage of each slice with 2 decimal points\n",
    "        colors=sns.color_palette(\"PRGn\", len(seasonal_trends))) # assigns unique colors from the \"PRGn\" palette based on the number of rows in the DataFrame. \n",
    "\n",
    "# Set the title for the pie chart \n",
    "plt.title('Seasonal Purchasing Trends', fontsize=14)\n",
    "\n",
    "# Display the pie chart \n",
    "plt.show()\n"
   ]
  },
  {
   "cell_type": "markdown",
   "id": "24cd592a-30b7-435c-a049-2020aab402b1",
   "metadata": {},
   "source": [
    "**Insight**\n",
    "\n",
    "The pie chart reveals that Winter and Summer drive the highest purchasing activity, \n",
    "with Winter at 36.62% and Summer at 28.30%. This suggests businesses could focus on promoting products during these seasons to maximize sales.\n",
    "Spring and Fall show lower purchasing trends, indicating less demand in these periods."
   ]
  },
  {
   "cell_type": "markdown",
   "id": "c47449dd-2b35-4e59-9584-6b5a6886b1d3",
   "metadata": {},
   "source": [
    "## **Visualization No.3:Total Sales with and without Discounts**\n"
   ]
  },
  {
   "cell_type": "code",
   "execution_count": 22,
   "id": "3f877cbc-99e6-4850-9ad1-77f416c4de23",
   "metadata": {},
   "outputs": [
    {
     "name": "stdout",
     "output_type": "stream",
     "text": [
      "    DiscountApplied  PurchaseAmount_USD\n",
      "0     With Discount              2194.0\n",
      "1  Without Discount               608.0\n"
     ]
    },
    {
     "name": "stderr",
     "output_type": "stream",
     "text": [
      "C:\\Users\\Sonal\\AppData\\Local\\Temp\\ipykernel_15112\\932646040.py:18: FutureWarning: \n",
      "\n",
      "Passing `palette` without assigning `hue` is deprecated and will be removed in v0.14.0. Assign the `x` variable to `hue` and set `legend=False` for the same effect.\n",
      "\n",
      "  sns.barplot(data=discount_pivot,x='DiscountApplied',y='PurchaseAmount_USD',palette='Greens')\n"
     ]
    },
    {
     "data": {
      "image/png": "[encoded data removed]",
      "text/plain": [
       "<Figure size 700x400 with 1 Axes>"
      ]
     },
     "metadata": {},
     "output_type": "display_data"
    }
   ],
   "source": [
    "# Replace 1 with 'With Discount' and 0 with 'Without Discount' in the 'DiscountApplied' column\n",
    "df1['DiscountApplied'] = df1['DiscountApplied'].replace({1: 'With Discount', 0: 'Without Discount'})\n",
    "\n",
    "# Create the pivot table to calculate the total purchase amount grouped by 'DiscountApplied'\n",
    "discount_pivot = df1.pivot_table(values='PurchaseAmount_USD',  # Specify the column to aggregate\n",
    "                                index='DiscountApplied',     # Group by 'DiscountApplied' column\n",
    "                                aggfunc='sum').reset_index()  # Apply sum function and reset index for a clean DataFrame\n",
    "\n",
    "# Display the pivot table to verify the aggregation results\n",
    "print(discount_pivot)\n",
    "\n",
    "# Set the figure size for the bar chart to make it more readable\n",
    "plt.figure(figsize=(7, 4))\n",
    "\n",
    "# Create a bar plot using Seaborn to visualize the total sales with and without discounts and \n",
    "# Data for plotting: x-axis represents DiscountApplied categories, y-axis shows total sales (purchase amount), and bars are colored using the 'Greens' palette\n",
    "\n",
    "sns.barplot(data=discount_pivot,x='DiscountApplied',y='PurchaseAmount_USD',palette='Greens')      \n",
    "       \n",
    "                              \n",
    "# Add a title to the bar chart to describe what it shows\n",
    "plt.title('Total Sales with and without Discounts', fontsize=14)\n",
    "\n",
    "# Label the x-axis to indicate what the categories represent (Discount Applied or Not)\n",
    "plt.xlabel('Discount Applied', fontsize=12)\n",
    "\n",
    "# Label the y-axis to indicate the total sales amount in USD\n",
    "plt.ylabel('Total Sales (USD)', fontsize=12)\n",
    "\n",
    "# Display the bar chart \n",
    "plt.show()\n"
   ]
  },
  {
   "cell_type": "markdown",
   "id": "8f948a88-a7bb-4d4b-a93b-c02369c0f103",
   "metadata": {},
   "source": [
    "**Insight**\n",
    "\n",
    "The total sales with discounts applied (2194USD) are significantly higher than those without discounts (608 USD), indicating that offering discounts leads to increased sales. This suggests that promotions or discounts might be an effective strategy to boost sales."
   ]
  },
  {
   "cell_type": "markdown",
   "id": "aed598e7-ceaf-4e63-ae41-62c5b36b7345",
   "metadata": {},
   "source": [
    "## **Visualization No.4: Distribution of Preferred Payment Methods**\n"
   ]
  },
  {
   "cell_type": "code",
   "execution_count": 23,
   "id": "6fb4cabf-3c18-45f6-a0c6-e677f5c072c7",
   "metadata": {},
   "outputs": [
    {
     "data": {
      "image/png": "[encoded data removed]",
      "text/plain": [
       "<Figure size 700x500 with 1 Axes>"
      ]
     },
     "metadata": {},
     "output_type": "display_data"
    }
   ],
   "source": [
    "# Count the occurrences of each unique payment method in the 'PreferredPaymentMethod' column\n",
    "payment_method_counts = df['PreferredPaymentMethod'].value_counts()\n",
    "\n",
    "# Create a new figure for the plot with a specified size (7 inches by 5 inches)\n",
    "plt.figure(figsize=(7, 5))\n",
    "\n",
    "# Plot the pie chart using the payment_method_counts Series\n",
    "# 'kind=\"pie\"' draws a pie chart, 'autopct=\"%1.1f%%\"' formats the percentage display on the slices to 1 decimal place, \n",
    "# and applies a Seaborn 'RdPu' color palette to the slices.\n",
    "payment_method_counts.plot(kind='pie', autopct='%1.1f%%', colors=sns.color_palette('RdPu'))\n",
    "\n",
    "# Add a title to the pie chart to describe what it represents\n",
    "plt.title('Preferred Payment Methods', fontsize=14)\n",
    "\n",
    "# Remove the default y-axis label (which is not needed for a pie chart) for clarity\n",
    "plt.ylabel('')\n",
    "\n",
    "# Display the pie chart\n",
    "plt.show()\n"
   ]
  },
  {
   "cell_type": "markdown",
   "id": "3bf99b53-22d8-46c2-b559-1edc88e035ea",
   "metadata": {},
   "source": [
    "**Insight**\n",
    "\n",
    "The pie chart shows that Debit Card is the most preferred payment method at 22%, \n",
    "followed by Bank Transfer at 20%. Venmo accounts for 18%, while PayPal and Cash each make up 14%. \n",
    "Credit Card is the least preferred method, with only 12%. This suggests that digital payment methods, especially Debit Card and Venmo, are the most popular choices."
   ]
  },
  {
   "cell_type": "markdown",
   "id": "d8812b15-13e0-41f9-9000-2d800f53703a",
   "metadata": {},
   "source": [
    "## **Visualization No.5:Top 10 Highest Rated Products**\n"
   ]
  },
  {
   "cell_type": "code",
   "execution_count": 83,
   "id": "7e6feb02-7a2d-4b74-a371-0ae34b97544a",
   "metadata": {},
   "outputs": [
    {
     "name": "stdout",
     "output_type": "stream",
     "text": [
      "Products and Their Average Review Ratings:\n",
      "\n",
      "   ProductName  ReviewRating\n",
      "0       Blouse      3.266667\n",
      "1         Coat      3.975000\n",
      "2        Dress      4.550000\n",
      "3      HandBag      4.600000\n",
      "4          Hat      3.650000\n",
      "5       Hoodie      4.100000\n",
      "6       Jacket      3.900000\n",
      "7        Jeans      3.100000\n",
      "8      Jewelry      4.266667\n",
      "9        Pants      3.614286\n",
      "10     Sandals      3.500000\n",
      "11       Scarf      4.100000\n",
      "12       Shirt      2.933333\n",
      "13       Shoes      4.100000\n",
      "14      Shorts      4.366667\n",
      "15       Skirt      2.800000\n",
      "16    Sneakers      2.900000\n",
      "17       Socks      2.900000\n",
      "18  Sunglasses      4.500000\n",
      "19     Sweater      3.850000\n",
      "20     T-shirt      4.600000\n"
     ]
    },
    {
     "name": "stderr",
     "output_type": "stream",
     "text": [
      "C:\\Users\\Sonal\\AppData\\Local\\Temp\\ipykernel_15112\\1704182016.py:20: FutureWarning: \n",
      "\n",
      "Passing `palette` without assigning `hue` is deprecated and will be removed in v0.14.0. Assign the `x` variable to `hue` and set `legend=False` for the same effect.\n",
      "\n",
      "  sns.barplot(x='ProductName', y='ReviewRating', data=top_rated_products, palette='coolwarm')\n"
     ]
    },
    {
     "data": {
      "image/png": "[encoded data removed]",
      "text/plain": [
       "<Figure size 1000x400 with 1 Axes>"
      ]
     },
     "metadata": {},
     "output_type": "display_data"
    }
   ],
   "source": [
    "# Group by 'ProductName' and calculate the average rating for each product\n",
    "product_ratings = df1.groupby('ProductName')['ReviewRating'].mean().reset_index()\n",
    "\n",
    "# Title for the dataset\n",
    "print(\"Products and Their Average Review Ratings:\\n\")\n",
    "\n",
    "# Display the DataFrame with the product names and their average ratings\n",
    "print(product_ratings)\n",
    "\n",
    "# Sort the products by Rating in descending order\n",
    "product_ratings = product_ratings.sort_values(by='ReviewRating', ascending=False)\n",
    "\n",
    "# Get the top 10 products with the highest average ratings\n",
    "top_rated_products = product_ratings.head(10)\n",
    "\n",
    "# Set the figure size for the plot\n",
    "plt.figure(figsize=(10, 4))\n",
    "\n",
    "# Create a  bar chart to visualize the top 10 highest-rated products\n",
    "sns.barplot(x='ProductName', y='ReviewRating', data=top_rated_products, palette='coolwarm')\n",
    "\n",
    "# Set labels and title\n",
    "plt.xlabel('Product Name', fontsize=12)\n",
    "plt.ylabel('Average Rating', fontsize=12)\n",
    "plt.title('Top 10 Highest Rated Products', fontsize=14)\n",
    "\n",
    "# Add grid only on the y-axis for better readability\n",
    "plt.grid(axis='y', linestyle='--', alpha=0.7)\n",
    "\n",
    "# Show the plot\n",
    "plt.show()\n"
   ]
  },
  {
   "cell_type": "markdown",
   "id": "2c5d63b5-79bf-4c45-ade6-46ec41970745",
   "metadata": {},
   "source": [
    "**Insight**\n",
    "\n",
    "HandBag and T-shirt both have the highest rating of 4.6, indicating strong customer approval. Dress (4.55) and Sunglasses (4.5) are also highly rated. Fashion items and accessories seem to have higher customer satisfaction. Shirt, with a rating of 2.93, shows potential for improvement in quality or design."
   ]
  },
  {
   "cell_type": "markdown",
   "id": "f6db1266-d0b8-4aa0-a45d-766a2b0b1bea",
   "metadata": {},
   "source": [
    "## **Visualization No.6: Total Purchases per Shipping Method**\n"
   ]
  },
  {
   "cell_type": "code",
   "execution_count": 25,
   "id": "dd61ab2e-d75f-4807-a042-e473c690e89b",
   "metadata": {},
   "outputs": [
    {
     "name": "stdout",
     "output_type": "stream",
     "text": [
      "  ShippingTypeName  PurchaseID\n",
      "0   2-Day Shipping           5\n",
      "1          Express          10\n",
      "2    Free Shipping          12\n",
      "3     Next Day Air           7\n",
      "4         Standard           4\n",
      "5     Store Pickup          12\n"
     ]
    },
    {
     "name": "stderr",
     "output_type": "stream",
     "text": [
      "C:\\Users\\Sonal\\AppData\\Local\\Temp\\ipykernel_15112\\1430277497.py:17: FutureWarning: \n",
      "\n",
      "Passing `palette` without assigning `hue` is deprecated and will be removed in v0.14.0. Assign the `x` variable to `hue` and set `legend=False` for the same effect.\n",
      "\n",
      "  sns.barplot(data=shipping_pivot, x='ShippingTypeName', y='PurchaseCount', palette='coolwarm')\n"
     ]
    },
    {
     "data": {
      "image/png": "[encoded data removed]",
      "text/plain": [
       "<Figure size 1000x400 with 1 Axes>"
      ]
     },
     "metadata": {},
     "output_type": "display_data"
    }
   ],
   "source": [
    "# Create a pivot table to count occurrences of each Shipping Type\n",
    "shipping_pivot = df1.pivot_table(values='PurchaseID',  # Count the occurrences of 'PurchaseID' for each shipping type\n",
    "                                 index='ShippingTypeName',  # Group the data by 'ShippingTypeName'\n",
    "                                 aggfunc='count').reset_index()  # Apply count aggregation function and reset the index\n",
    "# The pivot table now shows how many times each shipping type has been used in purchases\n",
    "print(shipping_pivot)  # Print the pivot table \n",
    "\n",
    "# Rename the columns for better readability\n",
    "shipping_pivot.columns = ['ShippingTypeName', 'PurchaseCount']  # Rename columns to make it clearer\n",
    "# Now, 'ShippingTypeName' represents the shipping methods and 'PurchaseCount' represents the number of occurrences\n",
    "\n",
    "# Plot the count of each shipping type\n",
    "plt.figure(figsize=(10, 4))  # Set the size of the plot (width, height)\n",
    "\n",
    "# Create a bar plot using seaborn to visualize the data from the pivot table\n",
    "# `x='ShippingTypeName'` represents shipping types on the x-axis, `y='PurchaseCount'` represents the count of purchases on the y-axis, and the 'coolwarm' palette adds color variation to the bars.\n",
    "sns.barplot(data=shipping_pivot, x='ShippingTypeName', y='PurchaseCount', palette='coolwarm')  \n",
    "\n",
    "\n",
    "plt.title('Count of Purchases by Shipping Type', fontsize=14)  # Set the title of the plot with font size\n",
    "plt.xlabel('Shipping Type', fontsize=12)  # Label for the x-axis, with font size for clarity\n",
    "plt.ylabel('Purchase Count', fontsize=12)  # Label for the y-axis, with font size for clarity\n",
    "\n",
    "plt.show()  # Display the plot \n"
   ]
  },
  {
   "cell_type": "markdown",
   "id": "2d9e3b21-8604-46aa-bbc7-080d0563bf24",
   "metadata": {},
   "source": [
    "**Insight**\n",
    "\n",
    "Free Shipping and Store Pickup have the highest frequency with 12 purchases each, indicating strong customer preference for no extra shipping cost or in-store collection. Express shipping follows closely with 10, while Standard shipping has the lowest count at 4, suggesting it's less preferred."
   ]
  },
  {
   "cell_type": "markdown",
   "id": "1728235d-5738-4468-ab7a-fc0ff5538db4",
   "metadata": {},
   "source": [
    "## **Visualization No.7: Top 10 Most Ordered Products**\n"
   ]
  },
  {
   "cell_type": "code",
   "execution_count": 70,
   "id": "1d846b94-db77-4e95-bab6-826fe8bcefa5",
   "metadata": {},
   "outputs": [
    {
     "name": "stdout",
     "output_type": "stream",
     "text": [
      "  ProductName  OrderCount\n",
      "0       Pants           7\n",
      "1        Coat           4\n",
      "2       Dress           4\n",
      "3      Shorts           3\n",
      "4      Blouse           3\n",
      "5     HandBag           3\n",
      "6       Shirt           3\n",
      "7     Jewelry           3\n",
      "8     Sweater           2\n",
      "9     T-shirt           2\n"
     ]
    },
    {
     "name": "stderr",
     "output_type": "stream",
     "text": [
      "C:\\Users\\Sonal\\AppData\\Local\\Temp\\ipykernel_15112\\750261935.py:10: FutureWarning: \n",
      "\n",
      "Passing `palette` without assigning `hue` is deprecated and will be removed in v0.14.0. Assign the `y` variable to `hue` and set `legend=False` for the same effect.\n",
      "\n",
      "  sns.barplot(x='OrderCount', y='ProductName', data=top_10_products, palette='viridis')\n"
     ]
    },
    {
     "data": {
      "image/png": "[encoded data removed]",
      "text/plain": [
       "<Figure size 1000x400 with 1 Axes>"
      ]
     },
     "metadata": {},
     "output_type": "display_data"
    }
   ],
   "source": [
    "# Count the number of times each product is ordered, sort them, and select the top 10 products\n",
    "top_10_products = df1['ProductName'].value_counts().head(10).reset_index()\n",
    "top_10_products.columns = ['ProductName', 'OrderCount']  # Rename columns for better understanding\n",
    "print(top_10_products)\n",
    "\n",
    "# Set the figure size for better visualization\n",
    "plt.figure(figsize=(10, 4))\n",
    "\n",
    "# Create a horizontal bar chart to display the top 10 most ordered products\n",
    "sns.barplot(x='OrderCount', y='ProductName', data=top_10_products, palette='viridis')\n",
    "\n",
    "plt.xlabel('Order Count', fontsize=12)  # Label for the x-axis\n",
    "plt.ylabel('Product Name', fontsize=12)  # Label for the y-axis\n",
    "plt.title('Top 10 Most Ordered Products', fontsize=14)  # Title of the chart\n",
    "\n",
    "# Add a grid only on the x-axis for better readability of order counts\n",
    "plt.grid(axis='x', linestyle='--', alpha=0.7)  # Dashed grid lines with transparency\n",
    "\n",
    "# Display the plot\n",
    "plt.show() "
   ]
  },
  {
   "cell_type": "markdown",
   "id": "4f1281c5-92f2-4b72-a74d-66cf7e619603",
   "metadata": {},
   "source": [
    "**Insight**\n",
    "\n",
    "Pants are the most ordered item, followed by Coat and Dress. Other products like Shorts, Blouse, and HandBag have moderate demand, while Sweater and T-shirt show the least orders, indicating lower customer interest."
   ]
  },
  {
   "cell_type": "markdown",
   "id": "a5950fb2-2683-4abd-b584-09855c493bdb",
   "metadata": {},
   "source": [
    "# **Conclusion:**\n"
   ]
  },
  {
   "cell_type": "markdown",
   "id": "04e45d23-feb5-4a4c-8d5d-65708d6496e3",
   "metadata": {},
   "source": [
    "The Shopping Trends Analysis provides valuable insights into customer preferences and purchasing behavior on the e-commerce platform. It is evident that Clothing, Winter, and Discounts play a crucial role in driving sales. Free Shipping and Store Pickup are clear favorites among shipping methods, while Digital Payment Methods dominate customer choices.\n",
    "\n",
    "**To achieve sustained growth:**\n",
    "\n",
    "Focus on high-demand categories and seasons.\n",
    "\n",
    "Improve the performance of low-rated products and less popular categories.\n",
    "\n",
    "Leverage customer segmentation to deliver personalized experiences.\n",
    "\n",
    "Continuously monitor and refine promotional and shipping strategies"
   ]
  },
  {
   "cell_type": "markdown",
   "id": "24cdc518-b73b-43eb-b317-5637cbd05aaa",
   "metadata": {},
   "source": [
    "# **Recommendation:**"
   ]
  },
  {
   "cell_type": "markdown",
   "id": "613ebecf-4a43-4b38-a6d8-daf87ebf7e16",
   "metadata": {},
   "source": [
    "**1.Enhance Clothing Sales Strategy:**\n",
    "\n",
    "Since clothing is the highest-selling category, continue promoting clothing items aggressively. Introduce loyalty programs or personalized discounts to maintain momentum.\n",
    "\n",
    "**2.Focus on Seasonal Promotions:**\n",
    "\n",
    "Target Winter and Summer seasons with category-specific promotions and campaigns, as these are peak purchasing times. Introduce limited-time offers during Spring and Fall to drive demand in these low-activity periods.\n",
    "\n",
    "**3.Leverage Discount Offers:**\n",
    "\n",
    "Discounts have proven effective in increasing sales. Create a tiered discount system to incentivize higher spending, or consider seasonal discounts during Winter and Summer to maximize revenue.\n",
    "\n",
    "**4.Improve Payment Method Options:**\n",
    "\n",
    "Since Debit Card, Bank Transfer, and Venmo are the most preferred methods, ensure seamless experiences for these modes. Consider promotional offers for less preferred methods like Credit Card to boost their usage.\n",
    "\n",
    "**5.Optimize Shipping Options:**\n",
    "\n",
    "Free shipping and store pickup are preferred options. Expand free shipping eligibility or provide incentives for store pickups to enhance customer satisfaction. Reassess pricing and delivery times for Standard Shipping to make it more attractive.\n",
    "\n",
    "**6.Enhance Product Ratings:**\n",
    "\n",
    "Focus on improving low-rated products like shirts through customer feedback and quality enhancements. High-rated products like HandBag and T-shirt can be further promoted as flagship items to build brand trust.\n",
    "\n",
    "**7.Revitalize Footwear and Less Popular Products:**\n",
    "\n",
    "Consider targeted marketing campaigns or bundled offers to boost sales for low-performing categories like footwear and less-ordered products such as Sweater and T-shirt.\n",
    "\n",
    "**8.Targeted Customer Segmentation:**\n",
    "\n",
    "Use demographic and purchasing behavior data to segment customers effectively. Offer tailored promotions to specific segments, such as age or location-based discounts.\n",
    "\n",
    "**9.Promotional Code Evaluation:**\n",
    "\n",
    "Evaluate the performance of promotional codes by tracking their usage and conversion rates. Focus on the codes that drive the highest sales and engagement.\n",
    "\n",
    "**10.Enhance Product Variety:**\n",
    "\n",
    "Expand product lines in the most popular categories to cater to a broader audience. Introduce limited edition or seasonal collections to maintain customer interest.\n"
   ]
  },
  {
   "cell_type": "markdown",
   "id": "7ead461f-0153-48ce-bf89-eb6b7c1c60e9",
   "metadata": {},
   "source": [
    "# **Future Scope**"
   ]
  },
  {
   "cell_type": "markdown",
   "id": "2e782dd3-c137-4729-a465-2bc8c964eece",
   "metadata": {},
   "source": [
    "1.Enhanced Customer Segmentation: Use machine learning for targeted marketing.\n",
    "\n",
    "2.Predictive Analytics: Forecast sales trends using historical data.\n",
    "\n",
    "3.Real-Time Dashboards: Monitor sales, feedback, and inventory dynamically.\n",
    "\n",
    "4.AI Product Recommendations: Suggest products based on purchase history.\n",
    "\n",
    "5.Dynamic Pricing: Adjust prices based on demand and competition.\n",
    "\n",
    "6.Improved Shipping: Offer faster, sustainable, and diverse shipping options.\n",
    "\n",
    "7.Loyalty Programs: Reward repeat customers to boost retention.\n",
    "\n",
    "8.Sentiment Analysis: Use NLP on reviews to identify improvement areas.\n",
    "\n",
    "9.Category Expansion: Introduce new products based on market trends.\n",
    "\n",
    "10.Social Media Integration: Leverage insights from customer behavior online.\n"
   ]
  },
  {
   "cell_type": "code",
   "execution_count": null,
   "id": "c7af06e4-f374-4111-b3fc-7a2842efed7e",
   "metadata": {},
   "outputs": [],
   "source": []
  }
 ],
 "metadata": {
  "kernelspec": {
   "display_name": "Python 3 (ipykernel)",
   "language": "python",
   "name": "python3"
  },
  "language_info": {
   "codemirror_mode": {
    "name": "ipython",
    "version": 3
   },
   "file_extension": ".py",
   "mimetype": "text/x-python",
   "name": "python",
   "nbconvert_exporter": "python",
   "pygments_lexer": "ipython3",
   "version": "3.13.0"
  }
 },
 "nbformat": 4,
 "nbformat_minor": 5
}
